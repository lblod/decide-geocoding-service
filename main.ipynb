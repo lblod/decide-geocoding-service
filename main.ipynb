{
 "cells": [
  {
   "cell_type": "code",
   "execution_count": null,
   "id": "61000477",
   "metadata": {},
   "outputs": [
    {
     "name": "stderr",
     "output_type": "stream",
     "text": [
      "c:\\Users\\stefa\\anaconda3\\envs\\abb\\Lib\\site-packages\\requests\\__init__.py:86: RequestsDependencyWarning: Unable to find acceptable character detection dependency (chardet or charset_normalizer).\n",
      "  warnings.warn(\n",
      "c:\\Users\\stefa\\anaconda3\\envs\\abb\\Lib\\site-packages\\spacy\\util.py:910: UserWarning: [W095] Model 'nl_pipeline' (0.0.0) was trained with spaCy v3.6.1 and may not be 100% compatible with the current version (3.7.2). If you see errors or degraded performance, download a newer compatible model or retrain your custom model with the current spaCy version. For more details and available updates, run: python -m spacy validate\n",
      "  warnings.warn(warn_msg)\n"
     ]
    },
    {
     "name": "stdout",
     "output_type": "stream",
     "text": [
      "Initializing NER analyzer...\n",
      "✅ Loaded model: pipeline (v0.0.0)\n",
      "Model labels: ('BUILDING', 'CITY', 'DATE', 'DOMAIN', 'HOUSENUMBERS', 'INTERSECTION', 'MONEY', 'ORG', 'PERCENT', 'PERSON', 'POSTCODE', 'PRODUCT', 'PROVINCE', 'ROAD', 'STREET', 'TIME')\n",
      "Filtering for labels: ['CITY', 'DOMAIN', 'HOUSENUMBERS', 'INTERSECTION', 'POSTCODE', 'PROVINCE', 'ROAD', 'STREET']\n"
     ]
    }
   ],
   "source": [
    "# loading the NER model\n",
    "from library.spacy_ner_model import SpacyNERAnalyzer\n",
    "model_location = \"D:/OneDrive - Sirus NV/ABB/UC0.1/UC1/models/ner/robbert/model-best\"\n",
    "print(\"Initializing NER analyzer...\")\n",
    "ner_labels = ['CITY', 'DOMAIN', 'HOUSENUMBERS', 'INTERSECTION', 'POSTCODE', 'PROVINCE', 'ROAD', 'STREET']\n",
    "ner_analyzer = SpacyNERAnalyzer(model_location, labels=ner_labels)\n",
    "\n",
    "\n",
    "\n"
   ]
  },
  {
   "cell_type": "code",
   "execution_count": 2,
   "id": "0e90f257",
   "metadata": {},
   "outputs": [],
   "source": [
    "# loading the location entity solver\n",
    "from library.location_solver import LocationEntitiesSolver\n",
    "solver = LocationEntitiesSolver(ner_analyzer, \"Gent\")"
   ]
  },
  {
   "cell_type": "code",
   "execution_count": 3,
   "id": "0f1c51f2",
   "metadata": {},
   "outputs": [],
   "source": [
    "# Loading the Nominatim geocoder\n",
    "from library.nominatim_geocoder import NominatimGeocoder\n",
    "g = NominatimGeocoder(base_url=\"http://localhost:8080\", rate_limit=0.5)\n"
   ]
  },
  {
   "cell_type": "code",
   "execution_count": 5,
   "id": "b3e1cf5e",
   "metadata": {},
   "outputs": [
    {
     "name": "stderr",
     "output_type": "stream",
     "text": [
      "c:\\Users\\stefa\\anaconda3\\envs\\abb\\Lib\\site-packages\\thinc\\shims\\pytorch.py:114: FutureWarning: `torch.cuda.amp.autocast(args...)` is deprecated. Please use `torch.amp.autocast('cuda', args...)` instead.\n",
      "  with torch.cuda.amp.autocast(self._mixed_precision):\n"
     ]
    },
    {
     "name": "stdout",
     "output_type": "stream",
     "text": [
      "Geocoding query: 'Sint-Pietersplein' in city: 'Gent'\n",
      "Sint-Pietersplein, Kunstenkwartier, Gent, Oost-Vlaanderen, Vlaanderen, 9000, België / Belgique / Belgien 51.04256585 3.7258780090545707\n",
      "   OSM: https://www.openstreetmap.org/relation/4621700\n",
      "Geocoding query: 'Sint-Amandsplein' in city: 'Gent'\n",
      "error: No geocoding result found for 'Sint-Amandsplein' in Gent\n"
     ]
    }
   ],
   "source": [
    "def geocode_detectable(detectable, geocoder, default_city=\"Gent\"):\n",
    "    \"\"\"\n",
    "    Geocode a single detectable entity and return the result.\n",
    "    \n",
    "    Args:\n",
    "        detectable (dict): A detectable entity with name, house_number, city, type etc.\n",
    "        geocoder (NominatimGeocoder): The geocoder instance to use\n",
    "        default_city (str): Default city if none specified in the detectable\n",
    "        \n",
    "    Returns:\n",
    "        dict: Geocoding result with success status, display_name, coordinates and LOD data\n",
    "    \"\"\"\n",
    "    # Build the search query based on the detectable type and properties\n",
    "    name = detectable.get(\"name\", \"\")\n",
    "    if not name:\n",
    "        return {\"success\": False, \"error\": \"No name in detectable\"}\n",
    "    \n",
    "    # For houses, include house number in the query\n",
    "    if detectable.get(\"type\") == \"HOUSE\" and detectable.get(\"house_number\"):\n",
    "        query = f\"{name} {detectable['house_number']}\"\n",
    "    else:\n",
    "        query = name\n",
    "    \n",
    "    # Use city from detectable or fall back to default\n",
    "    city = detectable.get(\"city\", default_city)\n",
    "    \n",
    "    # Perform the geocoding\n",
    "    print(f\"Geocoding query: '{query}' in city: '{city}'\")\n",
    "    result = geocoder.search(query, city=city)\n",
    "    \n",
    "    if result:\n",
    "        return {\n",
    "            \"success\": True,\n",
    "            \"query\": query,\n",
    "            \"display_name\": result[\"display_name\"],\n",
    "            \"lat\": result[\"lat\"],\n",
    "            \"lon\": result[\"lon\"],\n",
    "            \"osm_url\": result.get(\"osm_url\"),\n",
    "            \"osm_type\": result.get(\"osm_type\"),\n",
    "            \"osm_id\": result.get(\"osm_id\"),\n",
    "            \"place_id\": result.get(\"place_id\"),\n",
    "            \"importance\": result.get(\"importance\"),\n",
    "            \"bbox\": result.get(\"bbox\"),\n",
    "            \"type\": result.get(\"type\"),\n",
    "            \"class\": result.get(\"class\"),\n",
    "            \"address\": result.get(\"address\"),\n",
    "            \"detectable\": detectable\n",
    "        }\n",
    "    else:\n",
    "        return {\n",
    "            \"success\": False,\n",
    "            \"query\": query,\n",
    "            \"city\": city,\n",
    "            \"error\": f\"No geocoding result found for '{query}' in {city}\",\n",
    "            \"detectable\": detectable\n",
    "        }\n",
    "\n",
    "\n",
    "text = \"\"\"\n",
    "2025_BURG_04205 - Burgemeesterbevel houdende flankerende veiligheidsmaatregelen naar aanleiding van de Student Kick-Off 2025 - Goedkeuring\n",
    "Aan de burgemeester wordt ter goedkeuring voorgelegd het besluit waarmee, net zoals vorige jaren, een aantal flankerende veiligheidsmaatregelen worden ingevoerd naar aanleiding van de Student Kick-Off die op 24 september 2025 doorgaat op het Sint-Pietersplein en het Sint-Amandsplein.\n",
    "\n",
    "11/09/2025 - Burgemeester - Gent\n",
    "\"\"\"\n",
    "# Test the new method\n",
    "detectables, doc = solver.process_text(text)\n",
    "\n",
    "g = NominatimGeocoder(base_url=\"http://localhost:8080\", rate_limit=0.5)\n",
    "\n",
    "for entry in detectables:\n",
    "    result = geocode_detectable(entry, g)\n",
    "    if result[\"success\"]:\n",
    "        print( result[\"display_name\"], result[\"lat\"], result[\"lon\"])\n",
    "        print(\"   OSM:\", result.get(\"osm_url\"))\n",
    "    else:\n",
    "        print(\"error:\",result[\"error\"])"
   ]
  },
  {
   "cell_type": "code",
   "execution_count": null,
   "id": "21cd916f",
   "metadata": {},
   "outputs": [],
   "source": []
  }
 ],
 "metadata": {
  "kernelspec": {
   "display_name": "abb",
   "language": "python",
   "name": "python3"
  },
  "language_info": {
   "codemirror_mode": {
    "name": "ipython",
    "version": 3
   },
   "file_extension": ".py",
   "mimetype": "text/x-python",
   "name": "python",
   "nbconvert_exporter": "python",
   "pygments_lexer": "ipython3",
   "version": "3.11.13"
  }
 },
 "nbformat": 4,
 "nbformat_minor": 5
}
